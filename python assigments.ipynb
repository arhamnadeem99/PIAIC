{
 "cells": [
  {
   "cell_type": "code",
   "execution_count": 1,
   "metadata": {},
   "outputs": [
    {
     "name": "stdout",
     "output_type": "stream",
     "text": [
      "enter radius of the circle : 5\n",
      "area of the circle is : 78.53981633974483\n"
     ]
    }
   ],
   "source": [
    "#Question:1\n",
    "import math\n",
    "radius=float(input(\"enter radius of the circle : \"))\n",
    "area=math.pi*pow(radius,2)\n",
    "print(\"area of the circle is : {}\".format(area))"
   ]
  },
  {
   "cell_type": "code",
   "execution_count": 2,
   "metadata": {},
   "outputs": [
    {
     "name": "stdout",
     "output_type": "stream",
     "text": [
      "enter the number : 5\n",
      "the number is positive\n"
     ]
    }
   ],
   "source": [
    "#Question:2\n",
    "number=float(input(\"enter the number : \"))\n",
    "if (number>0):\n",
    "    print(\"the number is positive\")\n",
    "elif (number<0):\n",
    "    print(\"the number is negative\")\n",
    "elif (number==0):\n",
    "    print(\"the is equal to zero\")"
   ]
  },
  {
   "cell_type": "code",
   "execution_count": 3,
   "metadata": {},
   "outputs": [
    {
     "name": "stdout",
     "output_type": "stream",
     "text": [
      "enter first number : 6\n",
      "enter second number : 3\n",
      "the numbers are completely divisible\n"
     ]
    }
   ],
   "source": [
    "#Question:3\n",
    "number_1=float(input(\"enter first number : \"))\n",
    "number_2=float(input(\"enter second number : \"))\n",
    "if (number_1 % number_2==0):\n",
    "    print(\"the numbers are completely divisible\")\n",
    "else:\n",
    "    print(\"the numbers aren't completely divisible\")"
   ]
  },
  {
   "cell_type": "code",
   "execution_count": 4,
   "metadata": {},
   "outputs": [
    {
     "name": "stdout",
     "output_type": "stream",
     "text": [
      "enter first date yyyy/mm/dd : 2019/08/08\n",
      "2019\n",
      "08\n",
      "08\n",
      "---------\n",
      "08\n",
      "enter second date yyyy/mm/dd : 2019/08/20\n",
      "2019\n",
      "08\n",
      "20\n",
      "--------\n",
      "20\n",
      "the difference batween days : 12\n"
     ]
    }
   ],
   "source": [
    "#Question:4\n",
    "date_1=input(\"enter first date yyyy/mm/dd : \")\n",
    "d1=date_1.split(\"/\")\n",
    "for n1 in d1:\n",
    "    print(n1)                           \n",
    "print(\"---------\")\n",
    "print(n1)                #apnay yaad rakhny k lia likha hy\n",
    "date_2=input(\"enter second date yyyy/mm/dd : \")\n",
    "d2=date_2.split(\"/\")\n",
    "for n2 in d2:\n",
    "    print(n2)\n",
    "print(\"--------\")\n",
    "print(n2)                #apnay yaad rakhnay k lia likha hy\n",
    "\n",
    "print(\"the difference batween days :\",int(n2)-int(n1))"
   ]
  },
  {
   "cell_type": "code",
   "execution_count": 5,
   "metadata": {},
   "outputs": [
    {
     "name": "stdout",
     "output_type": "stream",
     "text": [
      "enter the radius : 4\n",
      "the volume of the sphere is = 268.082573106329:\n"
     ]
    }
   ],
   "source": [
    "#Question:5\n",
    "import math\n",
    "radius=float(input(\"enter the radius : \"))\n",
    "volume=(4/3)*math.pi*pow(radius,3)\n",
    "print(\"the volume of the sphere is = {}:\".format(volume))"
   ]
  },
  {
   "cell_type": "code",
   "execution_count": 6,
   "metadata": {},
   "outputs": [
    {
     "name": "stdout",
     "output_type": "stream",
     "text": [
      "enter the string : hello\n",
      "enter the value : 6\n",
      "hellohellohellohellohellohello\n"
     ]
    }
   ],
   "source": [
    "#Question:6\n",
    "string=input(\"enter the string : \")\n",
    "no=int(input(\"enter the value : \"))\n",
    "formula=string*no\n",
    "print(formula)"
   ]
  },
  {
   "cell_type": "code",
   "execution_count": 7,
   "metadata": {},
   "outputs": [
    {
     "name": "stdout",
     "output_type": "stream",
     "text": [
      "enter the number : 4\n",
      "the number is even\n"
     ]
    }
   ],
   "source": [
    "#Question:7\n",
    "number=float(input(\"enter the number : \"))\n",
    "if (number % 2==0):\n",
    "    print(\"the number is even\")\n",
    "elif (number % 2 !=0):\n",
    "    print(\"the number is odd\")"
   ]
  },
  {
   "cell_type": "code",
   "execution_count": 8,
   "metadata": {},
   "outputs": [
    {
     "name": "stdout",
     "output_type": "stream",
     "text": [
      "enter the alphabet : a\n",
      "the given alphabet is vowel\n"
     ]
    }
   ],
   "source": [
    "#Question:8\n",
    "alphabet=input(\"enter the alphabet : \")\n",
    "if (alphabet==\"a\" or alphabet==\"A\"):\n",
    "    print(\"the given alphabet is vowel\")\n",
    "elif (alphabet==\"e\" or alphabet==\"E\"):\n",
    "    print(\"the given alphabet is vowel\")\n",
    "elif (alphabet==\"i\" or alphabet==\"I\"):\n",
    "    print(\"the given alphabet is vowel\")\n",
    "elif (alphabet==\"o\" or alphabet==\"O\"):\n",
    "    print(\"the given alphabet is vowel\")\n",
    "elif (alphabet==\"u\" or alphabet==\"U\"):\n",
    "    print(\"the given alphabet is vowel\")\n",
    "else:\n",
    "    print(\"the given alphabet isn't vowel\")"
   ]
  },
  {
   "cell_type": "code",
   "execution_count": 9,
   "metadata": {},
   "outputs": [
    {
     "name": "stdout",
     "output_type": "stream",
     "text": [
      "enter the base : 8\n",
      "enter the height : 5\n",
      "area_of_triangle=20.0\n"
     ]
    }
   ],
   "source": [
    "#Question:9\n",
    "base_of_triangle=float(input(\"enter the base : \"))\n",
    "height_of_triangle=float(input(\"enter the height : \"))\n",
    "area_of_triangle=(base_of_triangle * height_of_triangle) / 2\n",
    "print(\"area_of_triangle={}\".format(area_of_triangle))"
   ]
  },
  {
   "cell_type": "code",
   "execution_count": 10,
   "metadata": {},
   "outputs": [
    {
     "name": "stdout",
     "output_type": "stream",
     "text": [
      "enter the principle amount : 1234\n",
      "enter the rate of interest : 2222\n",
      "enter the time period : 6\n",
      "interest_rate = 164516.88\n"
     ]
    }
   ],
   "source": [
    "#Question:10\n",
    "princ_amount=float(input(\"enter the principle amount : \"))\n",
    "rate=float(input(\"enter the rate of interest : \"))\n",
    "time=float(input(\"enter the time period : \"))\n",
    "interest_rate=(princ_amount*rate*time) / 100\n",
    "print(\"interest_rate = {}\".format(interest_rate))"
   ]
  },
  {
   "cell_type": "code",
   "execution_count": 11,
   "metadata": {},
   "outputs": [
    {
     "name": "stdout",
     "output_type": "stream",
     "text": [
      "enter co-ordinate for x1 : 5\n",
      "enter co-ordinate for y1 : 4\n",
      "enter co-ordinate for x2 : 8\n",
      "enter co-ordinate for y2 : 9\n",
      "distance between two points is {} :  5.830951894845301\n"
     ]
    }
   ],
   "source": [
    "#Question:11\n",
    "import math\n",
    "x1=float(input(\"enter co-ordinate for x1 : \"))\n",
    "y1=float(input(\"enter co-ordinate for y1 : \"))\n",
    "x2=float(input(\"enter co-ordinate for x2 : \"))\n",
    "y2=float(input(\"enter co-ordinate for y2 : \"))\n",
    "distance=math.sqrt(pow(x2-x1,2) + pow(y2-y1,2))                #sqrt means square root\n",
    "print(\"distance between two points is {} : \",format(distance))"
   ]
  },
  {
   "cell_type": "code",
   "execution_count": 12,
   "metadata": {},
   "outputs": [
    {
     "name": "stdout",
     "output_type": "stream",
     "text": [
      "enter height in feet : 5.5\n",
      "height in centimeters is : 167.64000000000001\n"
     ]
    }
   ],
   "source": [
    "#Question:12\n",
    "h1=float(input(\"enter height in feet : \"))\n",
    "centimeters=30.48\n",
    "h2=(h1 * centimeters)\n",
    "print(\"height in centimeters is : {}\".format(h2))"
   ]
  },
  {
   "cell_type": "code",
   "execution_count": 13,
   "metadata": {},
   "outputs": [
    {
     "name": "stdout",
     "output_type": "stream",
     "text": [
      "enter height in cm : 180\n",
      "enter weight in kg : 75\n",
      "your BMI is : 23.148148148148145\n"
     ]
    }
   ],
   "source": [
    "#Question:13\n",
    "H=float(input(\"enter height in cm : \"))\n",
    "W=float(input(\"enter weight in kg : \"))\n",
    "M= 100\n",
    "h=H / M\n",
    "bmi=W / (h*h)\n",
    "print(\"your BMI is : {}\".format(bmi))"
   ]
  },
  {
   "cell_type": "code",
   "execution_count": 14,
   "metadata": {},
   "outputs": [
    {
     "name": "stdout",
     "output_type": "stream",
     "text": [
      "enter the number : 1234\n",
      "THE SUM OF NUMBERS IS : 761995.0\n"
     ]
    }
   ],
   "source": [
    "#Question:14\n",
    "n=int(input(\"enter the number : \"))\n",
    "Sum=(n*(n+1))/2\n",
    "print(\"THE SUM OF NUMBERS IS : {}\".format(Sum))"
   ]
  },
  {
   "cell_type": "code",
   "execution_count": 15,
   "metadata": {},
   "outputs": [
    {
     "name": "stdout",
     "output_type": "stream",
     "text": [
      "enter a number : 1234\n",
      "the digit sum of numbers are : 10\n"
     ]
    }
   ],
   "source": [
    "#Question:15\n",
    "num=input(\"enter a number : \")\n",
    "num1=len(num)\n",
    "total=0\n",
    "for x in range(0,num1):\n",
    "    total += int(num[x])\n",
    "print(\"the digit sum of numbers are : {}\".format(total))"
   ]
  },
  {
   "cell_type": "code",
   "execution_count": 17,
   "metadata": {},
   "outputs": [
    {
     "name": "stdout",
     "output_type": "stream",
     "text": [
      "enter a number : 13\n",
      "binary representation of number is :  0b1101\n"
     ]
    }
   ],
   "source": [
    "#Qyestion#16\n",
    "num=int(input(\"enter a number : \"))             \n",
    "print(\"binary representation of number is : \",bin(num))           #binary is a pre-defined function"
   ]
  },
  {
   "cell_type": "code",
   "execution_count": 24,
   "metadata": {},
   "outputs": [
    {
     "name": "stdout",
     "output_type": "stream",
     "text": [
      "enter the number : 1101\n",
      "the digit presentation of number is : 13 \n"
     ]
    }
   ],
   "source": [
    "#Question:17\n",
    "binary=input(\"enter the number : \")\n",
    "digit=0\n",
    "for y in binary:\n",
    "    digit= digit*2 + int(y)\n",
    "print(\"the digit presentation of number is : {} \".format(digit))"
   ]
  },
  {
   "cell_type": "code",
   "execution_count": 40,
   "metadata": {},
   "outputs": [
    {
     "name": "stdout",
     "output_type": "stream",
     "text": [
      "enter the sentence : daniyalbhosdika\n",
      "vowels : 6,consonants: 9\n"
     ]
    }
   ],
   "source": [
    "#Question:18\n",
    "v_c=input(\"enter the sentence : \")\n",
    "vowels=0\n",
    "consonants=0\n",
    "for v_t in v_c:\n",
    "    if(v_t == \"a\" or v_t == \"A\" or v_t ==  \"e\" or v_t == \"E\" or v_t == \"i\" or v_t == \"I\" or v_t == \"o\" \n",
    "       or v_t == \"O\" or v_t == \"u\" or v_t == \"U\"):\n",
    "        vowels += 1\n",
    "    else:\n",
    "        consonants += 1\n",
    "print( \"vowels : {},consonants: {}\".format(vowels,consonants))"
   ]
  },
  {
   "cell_type": "code",
   "execution_count": 28,
   "metadata": {},
   "outputs": [
    {
     "name": "stdout",
     "output_type": "stream",
     "text": [
      "enter the word : majboor\n",
      "the word majboor isn't palindrome\n"
     ]
    }
   ],
   "source": [
    "#Question:19\n",
    "name=input(\"enter the word : \")\n",
    "name1=name.lower()\n",
    "if name1==name1[::-1]:\n",
    "    print(\"the word {} is palindrome\".format(name1))\n",
    "else:\n",
    "    print(\"the word {} isn't palindrome\".format(name1))"
   ]
  },
  {
   "cell_type": "code",
   "execution_count": 20,
   "metadata": {},
   "outputs": [
    {
     "name": "stdout",
     "output_type": "stream",
     "text": [
      "Enter any sentence:question # 20\n",
      "Numbers = 2 \n",
      "Alphabets = 8 \n",
      "Special Characters = 1 \n",
      "Spaces = 2\n"
     ]
    }
   ],
   "source": [
    "#Question:20\n",
    "import string\n",
    "sen = input(\"Enter any sentence:\")\n",
    "Numbers = 0\n",
    "Alphabets = 0\n",
    "Special_Characters = 0\n",
    "Spaces = 0\n",
    "for i in range(len(sen)):   #ord() used to get alphabets using numbers(index)\n",
    "    if ((ord(sen[i]) >= 97 and ord(sen[i]) <= 122) or (ord(sen[i]) >= 65 and ord(sen[i]) <= 90)):\n",
    "        Alphabets +=1\n",
    "    elif(ord(sen[i]) >= 48 and ord(sen[i]) <= 57):\n",
    "        Numbers += 1\n",
    "    elif (sen[i] == \" \"):\n",
    "        Spaces += 1\n",
    "    else:\n",
    "        Special_Characters += 1\n",
    "        \n",
    "print(\"Numbers = {} \\nAlphabets = {}\"\n",
    "      \" \\nSpecial Characters = {} \\nSpaces = {}\".format(Numbers, Alphabets, Special_Characters, Spaces))"
   ]
  },
  {
   "cell_type": "code",
   "execution_count": 31,
   "metadata": {},
   "outputs": [
    {
     "name": "stdout",
     "output_type": "stream",
     "text": [
      "\n",
      "* \n",
      "* * \n",
      "* * * \n",
      "* * * * \n",
      "* * * * * \n",
      "* * * * * * \n",
      "* * * * * \n",
      "* * * * \n",
      "* * * \n",
      "* * \n",
      "* \n"
     ]
    }
   ],
   "source": [
    "#Question:21\n",
    "for a in range(0,6):\n",
    "    for b in range(1,a+1):\n",
    "        print(\"*\",end = \" \")\n",
    "    print()\n",
    "        \n",
    "for x in range(6,0,-1):\n",
    "    for y in range(x,0,-1):\n",
    "        print(\"*\",end = \" \")\n",
    "    print()"
   ]
  },
  {
   "cell_type": "code",
   "execution_count": 16,
   "metadata": {},
   "outputs": [
    {
     "name": "stdout",
     "output_type": "stream",
     "text": [
      "enter the variable : 5\n",
      "1 \n",
      "1 2 \n",
      "1 2 3 \n",
      "1 2 3 4 \n",
      "1 2 3 4 5 \n",
      "1 2 3 4 \n",
      "1 2 3 \n",
      "1 2 \n",
      "1 \n"
     ]
    }
   ],
   "source": [
    "#Question:22\n",
    "value=int(input(\"enter the variable : \"))\n",
    "for a in range(1,value+1):\n",
    "    for b in range(1,a+1):\n",
    "        print(b,end = \" \")\n",
    "    print()\n",
    "        \n",
    "        \n",
    "for x in range(value-1,0,-1):\n",
    "    for y in range(1,x+1):\n",
    "        print(y,end = \" \")\n",
    "    print()"
   ]
  },
  {
   "cell_type": "code",
   "execution_count": 15,
   "metadata": {},
   "outputs": [
    {
     "name": "stdout",
     "output_type": "stream",
     "text": [
      "Enter the number : 9\n",
      "1\n",
      "22\n",
      "333\n",
      "4444\n",
      "55555\n",
      "666666\n",
      "7777777\n",
      "88888888\n",
      "999999999\n"
     ]
    }
   ],
   "source": [
    "#Question:23\n",
    "num1 = int(input(\"Enter the number : \"))\n",
    "for i in range(1,num1+1):\n",
    "    for j in range(1,i+1):\n",
    "        print(i,end=\"\")\n",
    "    print()"
   ]
  }
 ],
 "metadata": {
  "kernelspec": {
   "display_name": "Python 3",
   "language": "python",
   "name": "python3"
  },
  "language_info": {
   "codemirror_mode": {
    "name": "ipython",
    "version": 3
   },
   "file_extension": ".py",
   "mimetype": "text/x-python",
   "name": "python",
   "nbconvert_exporter": "python",
   "pygments_lexer": "ipython3",
   "version": "3.7.3"
  }
 },
 "nbformat": 4,
 "nbformat_minor": 2
}
